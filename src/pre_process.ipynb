{
 "cells": [
  {
   "cell_type": "markdown",
   "metadata": {
    "toc-hr-collapsed": false
   },
   "source": [
    "# 案例：中文文本大数据Python程序处理全流程——以年报为例\n",
    "## 案例背景\n",
    "以实际案例来讲解如何利用Python对中文文本数据进行处理，整个案例以中文的年报数据为基础，处理流程主要分为三个主要部分：数据预处理、文档表示和特征抽取"
   ]
  },
  {
   "cell_type": "markdown",
   "metadata": {},
   "source": [
    "## 数据预处理"
   ]
  },
  {
   "cell_type": "markdown",
   "metadata": {},
   "source": [
    "对中文文本进行预处理，对文本信息内容进行筛选和标注，将不必要的内容进行剔除。"
   ]
  },
  {
   "cell_type": "code",
   "execution_count": 2,
   "metadata": {},
   "outputs": [],
   "source": [
    "import re\n",
    "import os\n",
    "import pdb\n",
    "import tqdm\n",
    "from pathlib import Path\n",
    "import re\n",
    "import pickle\n",
    "from itertools import chain\n",
    "from functools import reduce\n",
    "from multiprocessing import pool, cpu_count\n",
    "import jieba"
   ]
  },
  {
   "cell_type": "markdown",
   "metadata": {
    "toc-hr-collapsed": false
   },
   "source": [
    "### 文本定位"
   ]
  },
  {
   "cell_type": "markdown",
   "metadata": {
    "toc-hr-collapsed": false
   },
   "source": [
    "定义抽取的规则，其中head_of_MDA中的关键词一般作为年报中MD&A部分的标题，同样这些关键词也会出现在年报的标题部分，这会对提取MD&A部分造成干扰，但如果这些关键词出现在目录中，那么它们一定是成对出现的，可以利用这个规律对目录部分进行清洗。"
   ]
  },
  {
   "cell_type": "markdown",
   "metadata": {},
   "source": [
    "pattern_of_MDA是用来提取MD&A部分的规则，按照开始关键词和结束关键词进行两两配对，提取年报中的MD&A部分。"
   ]
  },
  {
   "cell_type": "code",
   "execution_count": 3,
   "metadata": {},
   "outputs": [],
   "source": [
    "head_of_MDA = [\"管理层讨论与分析\", \"经营情况讨论与分析\", \"董事会报告\", \"董事局报告\"]\n",
    "pattern_of_MDA = [\n",
    "    \"第.节\\s*?管理层讨论与分析(?!\\s*?\\.)(?!\\w)(?!”)[\\s\\S]+?(?=第.*?股份变动及股东情况(?!\\”)(?!\\s*?\\.)\\s+?)\",\n",
    "    \"第.节\\s*?管理层讨论与分析(?!\\s*?\\.)(?!\\w)(?!”)[\\s\\S]+?(?=第.*?重要事项(?!\\”)(?!\\s*?\\.)\\s+?)\",\n",
    "    \"第.节\\s*?经营情况讨论与分析(?!\\s*?\\.)(?!\\w)(?!”)[\\s\\S]+?(?=第.*?重要事项(?!\\”)(?!\\s*?\\.)\\s+?)\",\n",
    "    \"第.节\\s*?董事会报告(?!\\s*?\\.)(?!\\w)(?!”)[\\s\\S]+?(?=第.*?重要事项(?!\\”)(?!\\s*?\\.)\\s+?)\",\n",
    "    \"第.节\\s*?董事局报告(?!\\s*?\\.)(?!\\w)(?!”)[\\s\\S]+?(?=第.*?重要事项(?!\\”)(?!\\s*?\\.)\\s+?)\",\n",
    "    \"第.节\\s*?董事会报告(?!\\s*?\\.)(?!\\w)(?!”)[\\s\\S]+?(?=第.*?监事会报告(?!\\”)(?!\\s*?\\.)\\s+?)\",\n",
    "    \"第.节\\s*?董事局报告(?!\\s*?\\.)(?!\\w)(?!”)[\\s\\S]+?(?=第.*?监事会报告(?!\\”)(?!\\s*?\\.)\\s+?)\",\n",
    "]"
   ]
  },
  {
   "cell_type": "markdown",
   "metadata": {},
   "source": [
    " 用来清除年报的目录部分，因目录部分也会存在我们想要的提取的结构，"
   ]
  },
  {
   "cell_type": "code",
   "execution_count": 4,
   "metadata": {},
   "outputs": [],
   "source": [
    "def remove_catalogue(path, dealed_path, file_list):  # 清除年报的目录，以方便截取关键部分\n",
    "    for filename in tqdm.tqdm(file_list, desc=\"清除年报目录\"):\n",
    "        try:\n",
    "            with open(filename, \"r\", encoding=\"utf-8\") as f1, open(dealed_path.joinpath(filename.name), \"w\", encoding=\"utf-8\") as f2:\n",
    "                text = f1.read()\n",
    "                for i in range(len(head_of_MDA)):\n",
    "                    target = head_of_MDA[i] + \"[\\s\\S]+?\" + head_of_MDA[i]\n",
    "                    content = re.search(target, text)\n",
    "                    if content != None:\n",
    "                        content = content.group()[: -len(head_of_MDA[i])]\n",
    "                        text = text.replace(content, \"\")\n",
    "                        break\n",
    "                f2.write(text + \"\\n\")\n",
    "                f2.flush()\n",
    "        except:\n",
    "            pass"
   ]
  },
  {
   "cell_type": "markdown",
   "metadata": {},
   "source": [
    "在完成对目录的清除后，按照规则对年报的内容进行提取"
   ]
  },
  {
   "cell_type": "code",
   "execution_count": 5,
   "metadata": {},
   "outputs": [],
   "source": [
    "def extract(dealed_path, caught_path, file_list):  # 根据规则抓取数据\n",
    "    for filename in tqdm.tqdm(file_list, desc=\"提取MD&A\"):\n",
    "        pattern_of_MDA_file = filename.name\n",
    "        try:\n",
    "            with open(dealed_path.joinpath(filename.name), \"r\", encoding=\"utf-8\") as f1, open(caught_path.joinpath(pattern_of_MDA_file), \"w\", encoding=\"utf-8\") as f2:\n",
    "                text = f1.read()\n",
    "                for i in range(len(pattern_of_MDA)):\n",
    "                    target = pattern_of_MDA[i]\n",
    "                    data = re.search(target, text)\n",
    "                    if data != None:\n",
    "                        f2.write(data.group())\n",
    "                        f2.flush()\n",
    "                        break\n",
    "        except:\n",
    "            pass"
   ]
  },
  {
   "cell_type": "markdown",
   "metadata": {},
   "source": [
    " 获取提取失败的年报列表，判断方法为读取匹配文件的内容，如该文件内容过小，则判断其为匹配失败"
   ]
  },
  {
   "cell_type": "code",
   "execution_count": 6,
   "metadata": {},
   "outputs": [],
   "source": [
    "def get_todo_list(caught_path):\n",
    "    caught_file = caught_path.glob(\"*.txt\")\n",
    "    error_list = []\n",
    "    for file in caught_file:\n",
    "        if file.stat().st_size < 5 * 1024:  # 如果文件大小不足5KB，就判断为匹配失败\n",
    "            error_list.append(file)\n",
    "    return error_list"
   ]
  },
  {
   "cell_type": "markdown",
   "metadata": {},
   "source": [
    " 再次对截取失败的年报进行处理，大部分失败的原因是没有成功的清除掉目录部分"
   ]
  },
  {
   "cell_type": "code",
   "execution_count": 9,
   "metadata": {},
   "outputs": [],
   "source": [
    "def removecatalogue_and_catch(dealed_path, caught_path, try_num):\n",
    "    print(\"try 3 more times\")\n",
    "    todo_list = get_todo_list(caught_path)\n",
    "    while len(todo_list) > 0 and try_num > 0:\n",
    "        for file in tqdm.tqdm(todo_list, desc=\"再次处理\"):\n",
    "            pattern_of_MDA_path = dealed_path.joinpath(\"_\".join(file.name.split(\"_\")[-2:]))\n",
    "            with pattern_of_MDA_path.open(mode=\"r+\", encoding=\"utf-8\") as f:\n",
    "                text = f.read()  # 读取文件的内容，再次清除目录\n",
    "                f.truncate()  # 清除掉文件的内容\n",
    "                for i in range(len(head_of_MDA)):\n",
    "                    target = head_of_MDA[i] + \"[\\s\\S]+?\" + head_of_MDA[i]\n",
    "                    content = re.search(target, text)\n",
    "                    if content != None:\n",
    "                        content = content.group()[: -len(head_of_MDA[i])]\n",
    "                        text = text.replace(content, \"\")\n",
    "                        break\n",
    "                f.write(text + \"\\n\")\n",
    "        extract(dealed_path, caught_path, todo_list)\n",
    "        todo_list = get_todo_list(caught_path)\n",
    "        try_num -= 1"
   ]
  },
  {
   "cell_type": "markdown",
   "metadata": {},
   "source": [
    "对1961个年报进行MD&A的提取"
   ]
  },
  {
   "cell_type": "code",
   "execution_count": 10,
   "metadata": {
    "scrolled": true
   },
   "outputs": [
    {
     "name": "stderr",
     "output_type": "stream",
     "text": [
      "清除年报目录: 100%|███████████████████████████████████████████████████████████████| 5227/5227 [00:10<00:00, 497.24it/s]\n",
      "提取MD&A: 100%|███████████████████████████████████████████████████████████████████| 5227/5227 [00:11<00:00, 461.35it/s]\n"
     ]
    },
    {
     "name": "stdout",
     "output_type": "stream",
     "text": [
      "try 3 more times\n"
     ]
    },
    {
     "name": "stderr",
     "output_type": "stream",
     "text": [
      "再次处理: 100%|██████████████████████████████████████████████████████████████████| 2006/2006 [00:01<00:00, 1815.13it/s]\n",
      "提取MD&A: 100%|███████████████████████████████████████████████████████████████████| 2006/2006 [00:09<00:00, 209.08it/s]\n",
      "再次处理: 100%|██████████████████████████████████████████████████████████████████| 2004/2004 [00:01<00:00, 1294.94it/s]\n",
      "提取MD&A: 100%|███████████████████████████████████████████████████████████████████| 2004/2004 [00:06<00:00, 319.45it/s]\n",
      "再次处理: 100%|███████████████████████████████████████████████████████████████████| 2004/2004 [00:02<00:00, 904.95it/s]\n",
      "提取MD&A: 100%|███████████████████████████████████████████████████████████████████| 2004/2004 [00:15<00:00, 125.95it/s]\n"
     ]
    }
   ],
   "source": [
    "path = Path(\"../data/annual_report\")  # 原始年报存放路径\n",
    "dealed_path = Path(\"../data/catalogue_removed\")  # 删除了目录部分的年报要存储的目录\n",
    "caught_path = Path(\"../data/md&a\")  # 年报截取的部分要存储的目录\n",
    "\n",
    "dealed_path.mkdir(exist_ok=True)  # 创建需要的文件夹\n",
    "caught_path.mkdir(exist_ok=True)  # 创建需要的文件夹\n",
    "\n",
    "file_list = list(path.glob(\"*.txt\"))  # 获得所有要提取的年报的名字\n",
    "\n",
    "remove_catalogue(path, dealed_path, file_list)\n",
    "extract(dealed_path, caught_path, file_list)\n",
    "removecatalogue_and_catch(dealed_path, caught_path, 3)\n",
    "for i in get_todo_list(caught_path):\n",
    "    i.unlink()  # 删除掉提取失败的文本"
   ]
  },
  {
   "cell_type": "markdown",
   "metadata": {},
   "source": [
    " 截取年报的MD&A部分，放入到md&a目录下， 供后续数据分析使用"
   ]
  },
  {
   "cell_type": "markdown",
   "metadata": {},
   "source": [
    "### 中文的分词"
   ]
  },
  {
   "cell_type": "code",
   "execution_count": 11,
   "metadata": {},
   "outputs": [],
   "source": [
    "all_mda_file = Path(\"../data/md&a\")  # 声明放置匹配MD&A内容的文件夹\n",
    "all_files = list(all_mda_file.glob(\"*.txt\"))  # 获得所有MD&A文件的文件名\n",
    "all_word = []  # 用来存储所有的分词后的单词\n",
    "doc_word = []  # 用来存储每个文档对应的单词列表，每个文档为一个列表，每个列表对应一篇文档的分词结果\n",
    "doc_sentences = []  # 用来存储每个文档对应的句子列表，每个文档为多个列表，每个列表对应一个句子的分词结果"
   ]
  },
  {
   "cell_type": "code",
   "execution_count": 12,
   "metadata": {},
   "outputs": [],
   "source": [
    "from process_func import process_cut # 将函数放到另外的文件中，是为了能够在windows环境下运行multiprocessing进行加速"
   ]
  },
  {
   "cell_type": "code",
   "execution_count": 13,
   "metadata": {},
   "outputs": [
    {
     "name": "stderr",
     "output_type": "stream",
     "text": [
      "分词中: 100%|█████████████████████████████████████████████████████████████████████| 3223/3223 [00:24<00:00, 131.30it/s]\n"
     ]
    }
   ],
   "source": [
    "process_pool = pool.Pool(processes=cpu_count())  # 使用多进程加速处理,使用进程池\n",
    "res = process_pool.map_async(process_cut, tqdm.tqdm(all_files, desc=\"分词中\"))  # 使用进程池的异步map方法\n",
    "process_pool.close()  # 关闭进程池，不再加入新的进程\n",
    "process_pool.join()  # 等待子进程执行结束\n",
    "res = res.get()  # 获得分词的结果"
   ]
  },
  {
   "cell_type": "markdown",
   "metadata": {},
   "source": [
    "### 去停用词"
   ]
  },
  {
   "cell_type": "code",
   "execution_count": 14,
   "metadata": {},
   "outputs": [],
   "source": [
    "from process_func import filter_word # 将函数放到另外的文件中，是为了能够在windows环境下运行multiprocessing进行加速"
   ]
  },
  {
   "cell_type": "code",
   "execution_count": 15,
   "metadata": {},
   "outputs": [
    {
     "name": "stderr",
     "output_type": "stream",
     "text": [
      "去停用词: 100%|████████████████████████████████████████████████████████████████████| 3223/3223 [00:39<00:00, 81.42it/s]\n",
      "填充列表: 100%|██████████████████████████████████████████████████████████████████| 3223/3223 [00:00<00:00, 5634.39it/s]\n"
     ]
    }
   ],
   "source": [
    "filter_pool = pool.Pool(processes=4)  # 使用多进程加速处理,\n",
    "filter_res = filter_pool.starmap_async(filter_word, tqdm.tqdm(res, desc=\"去停用词\"))\n",
    "filter_pool.close()\n",
    "filter_pool.join()\n",
    "for sent_res, doc_word_res in tqdm.tqdm(filter_res.get(), desc=\"填充列表\"):\n",
    "    doc_sentences.append(sent_res)\n",
    "    all_word.extend(doc_word_res)\n",
    "    doc_word.append(doc_word_res)\n",
    "\n",
    "# 将预处理之后的结果缓存起来，供后续数据分析使用\n",
    "with open(\"../data/all_word.pth\", \"wb\") as f1, open(\"../data/doc_word.pth\", \"wb\") as f2, open(\"../data/doc_sentences.pth\", \"wb\") as f3:\n",
    "    pickle.dump(all_word, f1)\n",
    "    pickle.dump(doc_word, f2)\n",
    "    pickle.dump(doc_sentences, f3)"
   ]
  }
 ],
 "metadata": {
  "kernelspec": {
   "display_name": "Python 3 (ipykernel)",
   "language": "python",
   "name": "python3"
  },
  "language_info": {
   "codemirror_mode": {
    "name": "ipython",
    "version": 3
   },
   "file_extension": ".py",
   "mimetype": "text/x-python",
   "name": "python",
   "nbconvert_exporter": "python",
   "pygments_lexer": "ipython3",
   "version": "3.8.10"
  },
  "toc": {
   "base_numbering": 1,
   "nav_menu": {},
   "number_sections": false,
   "sideBar": true,
   "skip_h1_title": false,
   "title_cell": "Table of Contents",
   "title_sidebar": "Contents",
   "toc_cell": false,
   "toc_position": {},
   "toc_section_display": true,
   "toc_window_display": false
  },
  "toc-autonumbering": true,
  "toc-showmarkdowntxt": true,
  "varInspector": {
   "cols": {
    "lenName": 16,
    "lenType": 16,
    "lenVar": 40
   },
   "kernels_config": {
    "python": {
     "delete_cmd_postfix": "",
     "delete_cmd_prefix": "del ",
     "library": "var_list.py",
     "varRefreshCmd": "print(var_dic_list())"
    },
    "r": {
     "delete_cmd_postfix": ") ",
     "delete_cmd_prefix": "rm(",
     "library": "var_list.r",
     "varRefreshCmd": "cat(var_dic_list()) "
    }
   },
   "types_to_exclude": [
    "module",
    "function",
    "builtin_function_or_method",
    "instance",
    "_Feature"
   ],
   "window_display": false
  }
 },
 "nbformat": 4,
 "nbformat_minor": 4
}
